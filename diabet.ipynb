{
 "cells": [
  {
   "attachments": {},
   "cell_type": "markdown",
   "metadata": {},
   "source": [
    "Importing Libraries"
   ]
  },
  {
   "cell_type": "code",
   "execution_count": 1,
   "metadata": {},
   "outputs": [],
   "source": [
    "import pandas as pd\n",
    "import numpy as np\n",
    "import seaborn as sns\n",
    "import missingno as msno\n",
    "import sweetviz as sv\n",
    "\n",
    "from sklearn.model_selection import train_test_split\n",
    "import xgboost as xgb\n",
    "from catboost import CatBoostClassifier\n",
    "import lightgbm as lgb\n",
    "from sklearn.metrics import confusion_matrix\n",
    "\n",
    "import matplotlib.pyplot as plt\n",
    "from sklearn.metrics import accuracy_score, precision_score, recall_score, f1_score, roc_auc_score\n",
    "from sklearn.metrics import classification_report\n",
    "from sklearn.model_selection import GridSearchCV\n",
    "\n"
   ]
  },
  {
   "attachments": {},
   "cell_type": "markdown",
   "metadata": {},
   "source": [
    "Read Dataset"
   ]
  },
  {
   "cell_type": "code",
   "execution_count": 2,
   "metadata": {},
   "outputs": [],
   "source": [
    "df= pd.read_csv(\"diabetes.csv\")\n",
    "features = ['Pregnancies', 'Glucose', 'BloodPressure', 'SkinThickness', 'Insulin',\n",
    "       'BMI', 'DiabetesPedigreeFunction', 'Age']\n"
   ]
  },
  {
   "attachments": {},
   "cell_type": "markdown",
   "metadata": {},
   "source": [
    "Exploratory Data Analysis"
   ]
  },
  {
   "cell_type": "code",
   "execution_count": 3,
   "metadata": {},
   "outputs": [
    {
     "name": "stdout",
     "output_type": "stream",
     "text": [
      "<class 'pandas.core.frame.DataFrame'>\n",
      "RangeIndex: 768 entries, 0 to 767\n",
      "Data columns (total 9 columns):\n",
      " #   Column                    Non-Null Count  Dtype  \n",
      "---  ------                    --------------  -----  \n",
      " 0   Pregnancies               768 non-null    int64  \n",
      " 1   Glucose                   768 non-null    int64  \n",
      " 2   BloodPressure             768 non-null    int64  \n",
      " 3   SkinThickness             768 non-null    int64  \n",
      " 4   Insulin                   768 non-null    int64  \n",
      " 5   BMI                       768 non-null    float64\n",
      " 6   DiabetesPedigreeFunction  768 non-null    float64\n",
      " 7   Age                       768 non-null    int64  \n",
      " 8   Outcome                   768 non-null    int64  \n",
      "dtypes: float64(2), int64(7)\n",
      "memory usage: 54.1 KB\n"
     ]
    }
   ],
   "source": [
    "df.info()"
   ]
  },
  {
   "cell_type": "code",
   "execution_count": 4,
   "metadata": {},
   "outputs": [
    {
     "data": {
      "text/plain": [
       "Pregnancies                 0\n",
       "Glucose                     0\n",
       "BloodPressure               0\n",
       "SkinThickness               0\n",
       "Insulin                     0\n",
       "BMI                         0\n",
       "DiabetesPedigreeFunction    0\n",
       "Age                         0\n",
       "Outcome                     0\n",
       "dtype: int64"
      ]
     },
     "execution_count": 4,
     "metadata": {},
     "output_type": "execute_result"
    }
   ],
   "source": [
    "df.isnull().sum()"
   ]
  },
  {
   "cell_type": "code",
   "execution_count": 5,
   "metadata": {},
   "outputs": [
    {
     "data": {
      "text/html": [
       "<div>\n",
       "<style scoped>\n",
       "    .dataframe tbody tr th:only-of-type {\n",
       "        vertical-align: middle;\n",
       "    }\n",
       "\n",
       "    .dataframe tbody tr th {\n",
       "        vertical-align: top;\n",
       "    }\n",
       "\n",
       "    .dataframe thead th {\n",
       "        text-align: right;\n",
       "    }\n",
       "</style>\n",
       "<table border=\"1\" class=\"dataframe\">\n",
       "  <thead>\n",
       "    <tr style=\"text-align: right;\">\n",
       "      <th></th>\n",
       "      <th>Pregnancies</th>\n",
       "      <th>Glucose</th>\n",
       "      <th>BloodPressure</th>\n",
       "      <th>SkinThickness</th>\n",
       "      <th>Insulin</th>\n",
       "      <th>BMI</th>\n",
       "      <th>DiabetesPedigreeFunction</th>\n",
       "      <th>Age</th>\n",
       "      <th>Outcome</th>\n",
       "    </tr>\n",
       "  </thead>\n",
       "  <tbody>\n",
       "    <tr>\n",
       "      <th>count</th>\n",
       "      <td>768.000000</td>\n",
       "      <td>768.000000</td>\n",
       "      <td>768.000000</td>\n",
       "      <td>768.000000</td>\n",
       "      <td>768.000000</td>\n",
       "      <td>768.000000</td>\n",
       "      <td>768.000000</td>\n",
       "      <td>768.000000</td>\n",
       "      <td>768.000000</td>\n",
       "    </tr>\n",
       "    <tr>\n",
       "      <th>mean</th>\n",
       "      <td>3.845052</td>\n",
       "      <td>120.894531</td>\n",
       "      <td>69.105469</td>\n",
       "      <td>20.536458</td>\n",
       "      <td>79.799479</td>\n",
       "      <td>31.992578</td>\n",
       "      <td>0.471876</td>\n",
       "      <td>33.240885</td>\n",
       "      <td>0.348958</td>\n",
       "    </tr>\n",
       "    <tr>\n",
       "      <th>std</th>\n",
       "      <td>3.369578</td>\n",
       "      <td>31.972618</td>\n",
       "      <td>19.355807</td>\n",
       "      <td>15.952218</td>\n",
       "      <td>115.244002</td>\n",
       "      <td>7.884160</td>\n",
       "      <td>0.331329</td>\n",
       "      <td>11.760232</td>\n",
       "      <td>0.476951</td>\n",
       "    </tr>\n",
       "    <tr>\n",
       "      <th>min</th>\n",
       "      <td>0.000000</td>\n",
       "      <td>0.000000</td>\n",
       "      <td>0.000000</td>\n",
       "      <td>0.000000</td>\n",
       "      <td>0.000000</td>\n",
       "      <td>0.000000</td>\n",
       "      <td>0.078000</td>\n",
       "      <td>21.000000</td>\n",
       "      <td>0.000000</td>\n",
       "    </tr>\n",
       "    <tr>\n",
       "      <th>25%</th>\n",
       "      <td>1.000000</td>\n",
       "      <td>99.000000</td>\n",
       "      <td>62.000000</td>\n",
       "      <td>0.000000</td>\n",
       "      <td>0.000000</td>\n",
       "      <td>27.300000</td>\n",
       "      <td>0.243750</td>\n",
       "      <td>24.000000</td>\n",
       "      <td>0.000000</td>\n",
       "    </tr>\n",
       "    <tr>\n",
       "      <th>50%</th>\n",
       "      <td>3.000000</td>\n",
       "      <td>117.000000</td>\n",
       "      <td>72.000000</td>\n",
       "      <td>23.000000</td>\n",
       "      <td>30.500000</td>\n",
       "      <td>32.000000</td>\n",
       "      <td>0.372500</td>\n",
       "      <td>29.000000</td>\n",
       "      <td>0.000000</td>\n",
       "    </tr>\n",
       "    <tr>\n",
       "      <th>75%</th>\n",
       "      <td>6.000000</td>\n",
       "      <td>140.250000</td>\n",
       "      <td>80.000000</td>\n",
       "      <td>32.000000</td>\n",
       "      <td>127.250000</td>\n",
       "      <td>36.600000</td>\n",
       "      <td>0.626250</td>\n",
       "      <td>41.000000</td>\n",
       "      <td>1.000000</td>\n",
       "    </tr>\n",
       "    <tr>\n",
       "      <th>max</th>\n",
       "      <td>17.000000</td>\n",
       "      <td>199.000000</td>\n",
       "      <td>122.000000</td>\n",
       "      <td>99.000000</td>\n",
       "      <td>846.000000</td>\n",
       "      <td>67.100000</td>\n",
       "      <td>2.420000</td>\n",
       "      <td>81.000000</td>\n",
       "      <td>1.000000</td>\n",
       "    </tr>\n",
       "  </tbody>\n",
       "</table>\n",
       "</div>"
      ],
      "text/plain": [
       "       Pregnancies     Glucose  BloodPressure  SkinThickness     Insulin  \\\n",
       "count   768.000000  768.000000     768.000000     768.000000  768.000000   \n",
       "mean      3.845052  120.894531      69.105469      20.536458   79.799479   \n",
       "std       3.369578   31.972618      19.355807      15.952218  115.244002   \n",
       "min       0.000000    0.000000       0.000000       0.000000    0.000000   \n",
       "25%       1.000000   99.000000      62.000000       0.000000    0.000000   \n",
       "50%       3.000000  117.000000      72.000000      23.000000   30.500000   \n",
       "75%       6.000000  140.250000      80.000000      32.000000  127.250000   \n",
       "max      17.000000  199.000000     122.000000      99.000000  846.000000   \n",
       "\n",
       "              BMI  DiabetesPedigreeFunction         Age     Outcome  \n",
       "count  768.000000                768.000000  768.000000  768.000000  \n",
       "mean    31.992578                  0.471876   33.240885    0.348958  \n",
       "std      7.884160                  0.331329   11.760232    0.476951  \n",
       "min      0.000000                  0.078000   21.000000    0.000000  \n",
       "25%     27.300000                  0.243750   24.000000    0.000000  \n",
       "50%     32.000000                  0.372500   29.000000    0.000000  \n",
       "75%     36.600000                  0.626250   41.000000    1.000000  \n",
       "max     67.100000                  2.420000   81.000000    1.000000  "
      ]
     },
     "execution_count": 5,
     "metadata": {},
     "output_type": "execute_result"
    }
   ],
   "source": [
    "df.describe()"
   ]
  },
  {
   "cell_type": "code",
   "execution_count": 6,
   "metadata": {},
   "outputs": [
    {
     "data": {
      "text/plain": [
       "<AxesSubplot:>"
      ]
     },
     "execution_count": 6,
     "metadata": {},
     "output_type": "execute_result"
    },
    {
     "data": {
      "image/png": "[encoded data removed]",
      "text/plain": [
       "<Figure size 1800x720 with 2 Axes>"
      ]
     },
     "metadata": {
      "needs_background": "light"
     },
     "output_type": "display_data"
    }
   ],
   "source": [
    "msno.matrix(df)"
   ]
  },
  {
   "cell_type": "code",
   "execution_count": 7,
   "metadata": {},
   "outputs": [
    {
     "data": {
      "image/png": "[encoded data removed]",
      "text/plain": [
       "<Figure size 1080x720 with 8 Axes>"
      ]
     },
     "metadata": {
      "needs_background": "light"
     },
     "output_type": "display_data"
    }
   ],
   "source": [
    "def check_distribution_dist(df, features):\n",
    "    \"\"\"\n",
    "    Plots the distribution of numerical features in a dataframe using histograms and kernel density estimation.\n",
    "\n",
    "    Parameters:\n",
    "    -----------\n",
    "    df: pandas DataFrame\n",
    "        The dataframe containing the data.\n",
    "    features: list\n",
    "        The list of numerical feature column names.\n",
    "\n",
    "    Returns:\n",
    "    --------\n",
    "    None(displays subplots and distribution)\n",
    "\n",
    "    \"\"\"\n",
    "\n",
    "    num_features = len(features)\n",
    "    fig, axs = plt.subplots(nrows=2, ncols=num_features//2, figsize=(15,10))\n",
    "    fig.subplots_adjust(hspace=0.4, wspace=0.4)\n",
    "    axs = axs.ravel()\n",
    "    for i, feature in enumerate(features):\n",
    "        sns.histplot(data=df, x=feature, ax=axs[i], kde=True, palette=\"magma\", bins=50)\n",
    "        axs[i].set(title=f\"Distribution for {feature}\")\n",
    "    plt.show()\n",
    "\n",
    "\n",
    "check_distribution_dist(df,features)"
   ]
  },
  {
   "cell_type": "code",
   "execution_count": 8,
   "metadata": {},
   "outputs": [
    {
     "data": {
      "image/png": "[encoded data removed]",
      "text/plain": [
       "<Figure size 720x720 with 2 Axes>"
      ]
     },
     "metadata": {},
     "output_type": "display_data"
    },
    {
     "name": "stdout",
     "output_type": "stream",
     "text": [
      "Corelation Matrix:\n",
      "                          Pregnancies   Glucose  BloodPressure  SkinThickness  \\\n",
      "Pregnancies                  1.000000  0.129459       0.141282      -0.081672   \n",
      "Glucose                      0.129459  1.000000       0.152590       0.057328   \n",
      "BloodPressure                0.141282  0.152590       1.000000       0.207371   \n",
      "SkinThickness               -0.081672  0.057328       0.207371       1.000000   \n",
      "Insulin                     -0.073535  0.331357       0.088933       0.436783   \n",
      "BMI                          0.017683  0.221071       0.281805       0.392573   \n",
      "DiabetesPedigreeFunction    -0.033523  0.137337       0.041265       0.183928   \n",
      "Age                          0.544341  0.263514       0.239528      -0.113970   \n",
      "\n",
      "                           Insulin       BMI  DiabetesPedigreeFunction  \\\n",
      "Pregnancies              -0.073535  0.017683                 -0.033523   \n",
      "Glucose                   0.331357  0.221071                  0.137337   \n",
      "BloodPressure             0.088933  0.281805                  0.041265   \n",
      "SkinThickness             0.436783  0.392573                  0.183928   \n",
      "Insulin                   1.000000  0.197859                  0.185071   \n",
      "BMI                       0.197859  1.000000                  0.140647   \n",
      "DiabetesPedigreeFunction  0.185071  0.140647                  1.000000   \n",
      "Age                      -0.042163  0.036242                  0.033561   \n",
      "\n",
      "                               Age  \n",
      "Pregnancies               0.544341  \n",
      "Glucose                   0.263514  \n",
      "BloodPressure             0.239528  \n",
      "SkinThickness            -0.113970  \n",
      "Insulin                  -0.042163  \n",
      "BMI                       0.036242  \n",
      "DiabetesPedigreeFunction  0.033561  \n",
      "Age                       1.000000  \n"
     ]
    }
   ],
   "source": [
    "def plot_heatmap(data, feature_list):\n",
    "    \"\"\"\n",
    "    Plots heatmap of correlation matrix for given features in a pandas DataFrame.\n",
    "\n",
    "    Args:\n",
    "    - data: pandas DataFrame containing the data to be analyzed\n",
    "    - feature_list: list of features to be included in the correlation matrix and heatmap\n",
    "\n",
    "    Returns:\n",
    "    - None (displays heatmap and prints correlation matrix)\n",
    "    \"\"\"\n",
    "\n",
    "    corr_matrix = data[feature_list].corr()\n",
    "    mask = np.zeros_like(corr_matrix)\n",
    "    mask[np.triu_indices_from(mask)] = True\n",
    "    cmap = sns.diverging_palette(220, 10, as_cmap=True)\n",
    "    with sns.axes_style(\"white\"):\n",
    "        f, ax = plt.subplots(figsize=(10, 10))\n",
    "        sns.heatmap(corr_matrix, mask=mask, cmap=cmap, vmax=.3, square=True, linewidths=.5, cbar_kws={\"shrink\": .5}, annot=True, annot_kws={\"size\": 12})\n",
    "        plt.title('Corelation', fontsize=16)\n",
    "    plt.show()\n",
    "\n",
    "    print(\"Corelation Matrix:\")\n",
    "    print(corr_matrix)\n",
    "\n",
    "plot_heatmap(df, features)"
   ]
  },
  {
   "cell_type": "code",
   "execution_count": 9,
   "metadata": {},
   "outputs": [
    {
     "name": "stdout",
     "output_type": "stream",
     "text": [
      "                          Zero_Count\n",
      "column_name                         \n",
      "Pregnancies                      111\n",
      "Glucose                            5\n",
      "BloodPressure                     35\n",
      "SkinThickness                    227\n",
      "Insulin                          374\n",
      "BMI                               11\n",
      "DiabetesPedigreeFunction           0\n",
      "Age                                0\n",
      "Outcome                          500\n"
     ]
    }
   ],
   "source": [
    "zero_counts = df.eq(0).sum()\n",
    "zero_counts_df = pd.DataFrame(zero_counts, columns=[\"Zero_Count\"])\n",
    "zero_counts_df.index.name = \"column_name\"\n",
    "print(zero_counts_df)\n"
   ]
  },
  {
   "cell_type": "code",
   "execution_count": 10,
   "metadata": {},
   "outputs": [
    {
     "data": {
      "image/png": "[encoded data removed]",
      "text/plain": [
       "<Figure size 576x432 with 1 Axes>"
      ]
     },
     "metadata": {
      "needs_background": "light"
     },
     "output_type": "display_data"
    }
   ],
   "source": [
    "plt.figure(figsize=(8,6))\n",
    "sns.barplot(x=zero_counts_df.index, y=\"Zero_Count\", data=zero_counts_df)\n",
    "plt.title(\"Zero Counts on Column\")\n",
    "plt.xlabel(\"Columns\")\n",
    "plt.ylabel(\"0 Counts\")\n",
    "plt.xticks(rotation=45)\n",
    "plt.show()"
   ]
  },
  {
   "cell_type": "code",
   "execution_count": 11,
   "metadata": {},
   "outputs": [],
   "source": [
    "#sweet_report = sv.analyze(df,target_feat=\"Outcome\")\n",
    "#sweet_report.show_html('sweetviz_report.html')"
   ]
  },
  {
   "attachments": {},
   "cell_type": "markdown",
   "metadata": {},
   "source": [
    "Preprocessing"
   ]
  },
  {
   "cell_type": "code",
   "execution_count": 12,
   "metadata": {},
   "outputs": [],
   "source": [
    "from sklearn.preprocessing import StandardScaler\n",
    "X = df.drop(\"Outcome\",axis=1)\n",
    "y = df[\"Outcome\"]\n",
    "\n",
    "from imblearn.over_sampling import RandomOverSampler\n",
    "ros = RandomOverSampler(random_state=0)\n",
    "X, y = ros.fit_resample(X, y)\n",
    "\n",
    "\n",
    "scaler = StandardScaler()\n",
    "X= scaler.fit_transform(X)\n"
   ]
  },
  {
   "cell_type": "code",
   "execution_count": 13,
   "metadata": {},
   "outputs": [],
   "source": [
    "X_train, X_test, y_train, y_test = train_test_split(X, y, test_size=0.2, random_state=42)\n",
    "\n"
   ]
  },
  {
   "cell_type": "code",
   "execution_count": 14,
   "metadata": {},
   "outputs": [],
   "source": [
    "from sklearn.impute import SimpleImputer\n",
    "\n",
    "fill_values = SimpleImputer(missing_values=0, strategy=\"mean\")\n"
   ]
  },
  {
   "attachments": {},
   "cell_type": "markdown",
   "metadata": {},
   "source": [
    "XGBOOST"
   ]
  },
  {
   "cell_type": "code",
   "execution_count": 15,
   "metadata": {},
   "outputs": [
    {
     "data": {
      "text/html": [
       "<style>#sk-container-id-1 {color: black;background-color: white;}#sk-container-id-1 pre{padding: 0;}#sk-container-id-1 div.sk-toggleable {background-color: white;}#sk-container-id-1 label.sk-toggleable__label {cursor: pointer;display: block;width: 100%;margin-bottom: 0;padding: 0.3em;box-sizing: border-box;text-align: center;}#sk-container-id-1 label.sk-toggleable__label-arrow:before {content: \"▸\";float: left;margin-right: 0.25em;color: #696969;}#sk-container-id-1 label.sk-toggleable__label-arrow:hover:before {color: black;}#sk-container-id-1 div.sk-estimator:hover label.sk-toggleable__label-arrow:before {color: black;}#sk-container-id-1 div.sk-toggleable__content {max-height: 0;max-width: 0;overflow: hidden;text-align: left;background-color: #f0f8ff;}#sk-container-id-1 div.sk-toggleable__content pre {margin: 0.2em;color: black;border-radius: 0.25em;background-color: #f0f8ff;}#sk-container-id-1 input.sk-toggleable__control:checked~div.sk-toggleable__content {max-height: 200px;max-width: 100%;overflow: auto;}#sk-container-id-1 input.sk-toggleable__control:checked~label.sk-toggleable__label-arrow:before {content: \"▾\";}#sk-container-id-1 div.sk-estimator input.sk-toggleable__control:checked~label.sk-toggleable__label {background-color: #d4ebff;}#sk-container-id-1 div.sk-label input.sk-toggleable__control:checked~label.sk-toggleable__label {background-color: #d4ebff;}#sk-container-id-1 input.sk-hidden--visually {border: 0;clip: rect(1px 1px 1px 1px);clip: rect(1px, 1px, 1px, 1px);height: 1px;margin: -1px;overflow: hidden;padding: 0;position: absolute;width: 1px;}#sk-container-id-1 div.sk-estimator {font-family: monospace;background-color: #f0f8ff;border: 1px dotted black;border-radius: 0.25em;box-sizing: border-box;margin-bottom: 0.5em;}#sk-container-id-1 div.sk-estimator:hover {background-color: #d4ebff;}#sk-container-id-1 div.sk-parallel-item::after {content: \"\";width: 100%;border-bottom: 1px solid gray;flex-grow: 1;}#sk-container-id-1 div.sk-label:hover label.sk-toggleable__label {background-color: #d4ebff;}#sk-container-id-1 div.sk-serial::before {content: \"\";position: absolute;border-left: 1px solid gray;box-sizing: border-box;top: 0;bottom: 0;left: 50%;z-index: 0;}#sk-container-id-1 div.sk-serial {display: flex;flex-direction: column;align-items: center;background-color: white;padding-right: 0.2em;padding-left: 0.2em;position: relative;}#sk-container-id-1 div.sk-item {position: relative;z-index: 1;}#sk-container-id-1 div.sk-parallel {display: flex;align-items: stretch;justify-content: center;background-color: white;position: relative;}#sk-container-id-1 div.sk-item::before, #sk-container-id-1 div.sk-parallel-item::before {content: \"\";position: absolute;border-left: 1px solid gray;box-sizing: border-box;top: 0;bottom: 0;left: 50%;z-index: -1;}#sk-container-id-1 div.sk-parallel-item {display: flex;flex-direction: column;z-index: 1;position: relative;background-color: white;}#sk-container-id-1 div.sk-parallel-item:first-child::after {align-self: flex-end;width: 50%;}#sk-container-id-1 div.sk-parallel-item:last-child::after {align-self: flex-start;width: 50%;}#sk-container-id-1 div.sk-parallel-item:only-child::after {width: 0;}#sk-container-id-1 div.sk-dashed-wrapped {border: 1px dashed gray;margin: 0 0.4em 0.5em 0.4em;box-sizing: border-box;padding-bottom: 0.4em;background-color: white;}#sk-container-id-1 div.sk-label label {font-family: monospace;font-weight: bold;display: inline-block;line-height: 1.2em;}#sk-container-id-1 div.sk-label-container {text-align: center;}#sk-container-id-1 div.sk-container {/* jupyter's `normalize.less` sets `[hidden] { display: none; }` but bootstrap.min.css set `[hidden] { display: none !important; }` so we also need the `!important` here to be able to override the default hidden behavior on the sphinx rendered scikit-learn.org. See: https://github.com/scikit-learn/scikit-learn/issues/21755 */display: inline-block !important;position: relative;}#sk-container-id-1 div.sk-text-repr-fallback {display: none;}</style><div id=\"sk-container-id-1\" class=\"sk-top-container\"><div class=\"sk-text-repr-fallback\"><pre>XGBClassifier(base_score=0.5, booster=&#x27;gbtree&#x27;, callbacks=None,\n",
       "              colsample_bylevel=1, colsample_bynode=1, colsample_bytree=1,\n",
       "              early_stopping_rounds=None, enable_categorical=False,\n",
       "              eval_metric=None, feature_types=None, gamma=0, gpu_id=-1,\n",
       "              grow_policy=&#x27;depthwise&#x27;, importance_type=None,\n",
       "              interaction_constraints=&#x27;&#x27;, learning_rate=0.300000012,\n",
       "              max_bin=256, max_cat_threshold=64, max_cat_to_onehot=4,\n",
       "              max_delta_step=0, max_depth=6, max_leaves=0, min_child_weight=1,\n",
       "              missing=nan, monotone_constraints=&#x27;()&#x27;, n_estimators=100,\n",
       "              n_jobs=0, num_parallel_tree=1, predictor=&#x27;auto&#x27;, random_state=0, ...)</pre><b>In a Jupyter environment, please rerun this cell to show the HTML representation or trust the notebook. <br />On GitHub, the HTML representation is unable to render, please try loading this page with nbviewer.org.</b></div><div class=\"sk-container\" hidden><div class=\"sk-item\"><div class=\"sk-estimator sk-toggleable\"><input class=\"sk-toggleable__control sk-hidden--visually\" id=\"sk-estimator-id-1\" type=\"checkbox\" checked><label for=\"sk-estimator-id-1\" class=\"sk-toggleable__label sk-toggleable__label-arrow\">XGBClassifier</label><div class=\"sk-toggleable__content\"><pre>XGBClassifier(base_score=0.5, booster=&#x27;gbtree&#x27;, callbacks=None,\n",
       "              colsample_bylevel=1, colsample_bynode=1, colsample_bytree=1,\n",
       "              early_stopping_rounds=None, enable_categorical=False,\n",
       "              eval_metric=None, feature_types=None, gamma=0, gpu_id=-1,\n",
       "              grow_policy=&#x27;depthwise&#x27;, importance_type=None,\n",
       "              interaction_constraints=&#x27;&#x27;, learning_rate=0.300000012,\n",
       "              max_bin=256, max_cat_threshold=64, max_cat_to_onehot=4,\n",
       "              max_delta_step=0, max_depth=6, max_leaves=0, min_child_weight=1,\n",
       "              missing=nan, monotone_constraints=&#x27;()&#x27;, n_estimators=100,\n",
       "              n_jobs=0, num_parallel_tree=1, predictor=&#x27;auto&#x27;, random_state=0, ...)</pre></div></div></div></div></div>"
      ],
      "text/plain": [
       "XGBClassifier(base_score=0.5, booster='gbtree', callbacks=None,\n",
       "              colsample_bylevel=1, colsample_bynode=1, colsample_bytree=1,\n",
       "              early_stopping_rounds=None, enable_categorical=False,\n",
       "              eval_metric=None, feature_types=None, gamma=0, gpu_id=-1,\n",
       "              grow_policy='depthwise', importance_type=None,\n",
       "              interaction_constraints='', learning_rate=0.300000012,\n",
       "              max_bin=256, max_cat_threshold=64, max_cat_to_onehot=4,\n",
       "              max_delta_step=0, max_depth=6, max_leaves=0, min_child_weight=1,\n",
       "              missing=nan, monotone_constraints='()', n_estimators=100,\n",
       "              n_jobs=0, num_parallel_tree=1, predictor='auto', random_state=0, ...)"
      ]
     },
     "execution_count": 15,
     "metadata": {},
     "output_type": "execute_result"
    }
   ],
   "source": [
    "xgb_model = xgb.XGBClassifier()\n",
    "xgb_model.fit(X_train, y_train)"
   ]
  },
  {
   "cell_type": "code",
   "execution_count": 16,
   "metadata": {},
   "outputs": [
    {
     "name": "stdout",
     "output_type": "stream",
     "text": [
      "XGBOOST:  [0.82, 0.77, 0.91, 0.84, 0.82]\n"
     ]
    }
   ],
   "source": [
    "def calculate_performance_scores(xgb_model, X_test, y_test):\n",
    "    \"\"\"\n",
    "    This function calculates and returns the performance scores for an selected model.\n",
    "\n",
    "    Parameters:\n",
    "    xgb_model: XGBoost model object (Can be select)\n",
    "    X_test: Test dataset feature values as a pandas DataFrame\n",
    "    y_test: Test dataset target values as a pandas DataFrame\n",
    "\n",
    "    Returns:\n",
    "    A list containing the following performance scores in the order specified: accuracy, precision, recall, F1 score, AUC score.\n",
    "    \"\"\"\n",
    "    y_pred = xgb_model.predict(X_test)\n",
    "    acc = np.round(accuracy_score(y_test, y_pred),2)\n",
    "    pre = np.round(precision_score(y_test, y_pred),2)\n",
    "    rec= np.round(recall_score(y_test, y_pred),2)\n",
    "    f1= np.round(f1_score(y_test, y_pred),2)\n",
    "    auc= np.round(roc_auc_score(y_test, y_pred),2)\n",
    "    \n",
    "    performance_scores = [acc, pre, rec ,f1, auc]\n",
    " \n",
    "    return performance_scores\n",
    "\n",
    "xgb_model_performance = calculate_performance_scores(xgb_model, X_test, y_test)\n",
    "print('XGBOOST: ' , xgb_model_performance )\n",
    "\n"
   ]
  },
  {
   "cell_type": "code",
   "execution_count": 17,
   "metadata": {},
   "outputs": [
    {
     "data": {
      "text/html": [
       "<div>\n",
       "<style scoped>\n",
       "    .dataframe tbody tr th:only-of-type {\n",
       "        vertical-align: middle;\n",
       "    }\n",
       "\n",
       "    .dataframe tbody tr th {\n",
       "        vertical-align: top;\n",
       "    }\n",
       "\n",
       "    .dataframe thead th {\n",
       "        text-align: right;\n",
       "    }\n",
       "</style>\n",
       "<table border=\"1\" class=\"dataframe\">\n",
       "  <thead>\n",
       "    <tr style=\"text-align: right;\">\n",
       "      <th></th>\n",
       "      <th>XGBOOST:</th>\n",
       "    </tr>\n",
       "  </thead>\n",
       "  <tbody>\n",
       "    <tr>\n",
       "      <th>Accuracy:</th>\n",
       "      <td>0.82</td>\n",
       "    </tr>\n",
       "    <tr>\n",
       "      <th>Precision:</th>\n",
       "      <td>0.77</td>\n",
       "    </tr>\n",
       "    <tr>\n",
       "      <th>Recall:</th>\n",
       "      <td>0.91</td>\n",
       "    </tr>\n",
       "    <tr>\n",
       "      <th>F1_score:</th>\n",
       "      <td>0.84</td>\n",
       "    </tr>\n",
       "    <tr>\n",
       "      <th>Auc:</th>\n",
       "      <td>0.82</td>\n",
       "    </tr>\n",
       "  </tbody>\n",
       "</table>\n",
       "</div>"
      ],
      "text/plain": [
       "             XGBOOST:\n",
       "Accuracy:        0.82\n",
       "Precision:       0.77\n",
       "Recall:          0.91\n",
       "F1_score:        0.84\n",
       "Auc:             0.82"
      ]
     },
     "execution_count": 17,
     "metadata": {},
     "output_type": "execute_result"
    }
   ],
   "source": [
    "xg_boost = {'XGBOOST:': xgb_model_performance}\n",
    "xg_boost_df = pd.DataFrame(xg_boost, index=['Accuracy: ', 'Precision: ', 'Recall: ', 'F1_score: ','Auc: '])\n",
    "xg_boost_df"
   ]
  },
  {
   "attachments": {},
   "cell_type": "markdown",
   "metadata": {},
   "source": [
    "CATBOOST\n"
   ]
  },
  {
   "cell_type": "code",
   "execution_count": 18,
   "metadata": {},
   "outputs": [
    {
     "name": "stdout",
     "output_type": "stream",
     "text": [
      "0:\tlearn: 0.6664680\ttotal: 153ms\tremaining: 15.1s\n",
      "1:\tlearn: 0.6469518\ttotal: 158ms\tremaining: 7.73s\n",
      "2:\tlearn: 0.6272314\ttotal: 161ms\tremaining: 5.19s\n",
      "3:\tlearn: 0.6096801\ttotal: 163ms\tremaining: 3.91s\n",
      "4:\tlearn: 0.5923865\ttotal: 166ms\tremaining: 3.15s\n",
      "5:\tlearn: 0.5764929\ttotal: 168ms\tremaining: 2.63s\n",
      "6:\tlearn: 0.5617935\ttotal: 170ms\tremaining: 2.26s\n",
      "7:\tlearn: 0.5502490\ttotal: 173ms\tremaining: 1.99s\n",
      "8:\tlearn: 0.5380977\ttotal: 175ms\tremaining: 1.77s\n",
      "9:\tlearn: 0.5278537\ttotal: 178ms\tremaining: 1.6s\n",
      "10:\tlearn: 0.5183240\ttotal: 182ms\tremaining: 1.47s\n",
      "11:\tlearn: 0.5093347\ttotal: 184ms\tremaining: 1.35s\n",
      "12:\tlearn: 0.5003207\ttotal: 187ms\tremaining: 1.25s\n",
      "13:\tlearn: 0.4917955\ttotal: 189ms\tremaining: 1.16s\n",
      "14:\tlearn: 0.4854229\ttotal: 191ms\tremaining: 1.08s\n",
      "15:\tlearn: 0.4794215\ttotal: 193ms\tremaining: 1.01s\n",
      "16:\tlearn: 0.4733731\ttotal: 198ms\tremaining: 967ms\n",
      "17:\tlearn: 0.4670908\ttotal: 201ms\tremaining: 916ms\n",
      "18:\tlearn: 0.4611973\ttotal: 204ms\tremaining: 869ms\n",
      "19:\tlearn: 0.4565199\ttotal: 206ms\tremaining: 825ms\n",
      "20:\tlearn: 0.4511588\ttotal: 208ms\tremaining: 784ms\n",
      "21:\tlearn: 0.4456812\ttotal: 212ms\tremaining: 752ms\n",
      "22:\tlearn: 0.4411728\ttotal: 215ms\tremaining: 719ms\n",
      "23:\tlearn: 0.4372659\ttotal: 217ms\tremaining: 687ms\n",
      "24:\tlearn: 0.4334843\ttotal: 219ms\tremaining: 658ms\n",
      "25:\tlearn: 0.4295784\ttotal: 221ms\tremaining: 630ms\n",
      "26:\tlearn: 0.4262038\ttotal: 224ms\tremaining: 605ms\n",
      "27:\tlearn: 0.4235909\ttotal: 229ms\tremaining: 588ms\n",
      "28:\tlearn: 0.4201078\ttotal: 231ms\tremaining: 566ms\n",
      "29:\tlearn: 0.4167343\ttotal: 233ms\tremaining: 544ms\n",
      "30:\tlearn: 0.4138963\ttotal: 235ms\tremaining: 523ms\n",
      "31:\tlearn: 0.4107685\ttotal: 238ms\tremaining: 505ms\n",
      "32:\tlearn: 0.4064825\ttotal: 240ms\tremaining: 487ms\n",
      "33:\tlearn: 0.4032301\ttotal: 243ms\tremaining: 472ms\n",
      "34:\tlearn: 0.4004430\ttotal: 245ms\tremaining: 456ms\n",
      "35:\tlearn: 0.3979949\ttotal: 248ms\tremaining: 440ms\n",
      "36:\tlearn: 0.3960165\ttotal: 249ms\tremaining: 425ms\n",
      "37:\tlearn: 0.3927543\ttotal: 252ms\tremaining: 411ms\n",
      "38:\tlearn: 0.3906330\ttotal: 254ms\tremaining: 397ms\n",
      "39:\tlearn: 0.3891808\ttotal: 256ms\tremaining: 384ms\n",
      "40:\tlearn: 0.3869969\ttotal: 259ms\tremaining: 372ms\n",
      "41:\tlearn: 0.3858247\ttotal: 261ms\tremaining: 360ms\n",
      "42:\tlearn: 0.3832317\ttotal: 263ms\tremaining: 349ms\n",
      "43:\tlearn: 0.3815982\ttotal: 265ms\tremaining: 337ms\n",
      "44:\tlearn: 0.3792645\ttotal: 267ms\tremaining: 326ms\n",
      "45:\tlearn: 0.3778409\ttotal: 269ms\tremaining: 316ms\n",
      "46:\tlearn: 0.3760825\ttotal: 273ms\tremaining: 308ms\n",
      "47:\tlearn: 0.3739025\ttotal: 275ms\tremaining: 298ms\n",
      "48:\tlearn: 0.3723682\ttotal: 277ms\tremaining: 288ms\n",
      "49:\tlearn: 0.3708823\ttotal: 279ms\tremaining: 279ms\n",
      "50:\tlearn: 0.3683128\ttotal: 282ms\tremaining: 271ms\n",
      "51:\tlearn: 0.3673075\ttotal: 284ms\tremaining: 262ms\n",
      "52:\tlearn: 0.3657426\ttotal: 286ms\tremaining: 253ms\n",
      "53:\tlearn: 0.3633920\ttotal: 288ms\tremaining: 246ms\n",
      "54:\tlearn: 0.3610700\ttotal: 290ms\tremaining: 238ms\n",
      "55:\tlearn: 0.3595422\ttotal: 292ms\tremaining: 230ms\n",
      "56:\tlearn: 0.3577716\ttotal: 295ms\tremaining: 222ms\n",
      "57:\tlearn: 0.3568598\ttotal: 297ms\tremaining: 215ms\n",
      "58:\tlearn: 0.3558024\ttotal: 298ms\tremaining: 207ms\n",
      "59:\tlearn: 0.3547211\ttotal: 300ms\tremaining: 200ms\n",
      "60:\tlearn: 0.3520592\ttotal: 303ms\tremaining: 194ms\n",
      "61:\tlearn: 0.3504118\ttotal: 305ms\tremaining: 187ms\n",
      "62:\tlearn: 0.3491062\ttotal: 307ms\tremaining: 180ms\n",
      "63:\tlearn: 0.3471307\ttotal: 310ms\tremaining: 174ms\n",
      "64:\tlearn: 0.3445162\ttotal: 320ms\tremaining: 172ms\n",
      "65:\tlearn: 0.3426185\ttotal: 323ms\tremaining: 167ms\n",
      "66:\tlearn: 0.3410029\ttotal: 327ms\tremaining: 161ms\n",
      "67:\tlearn: 0.3386839\ttotal: 335ms\tremaining: 158ms\n",
      "68:\tlearn: 0.3373181\ttotal: 337ms\tremaining: 152ms\n",
      "69:\tlearn: 0.3348797\ttotal: 340ms\tremaining: 146ms\n",
      "70:\tlearn: 0.3337996\ttotal: 342ms\tremaining: 140ms\n",
      "71:\tlearn: 0.3327502\ttotal: 345ms\tremaining: 134ms\n",
      "72:\tlearn: 0.3310526\ttotal: 348ms\tremaining: 129ms\n",
      "73:\tlearn: 0.3300175\ttotal: 351ms\tremaining: 123ms\n",
      "74:\tlearn: 0.3284681\ttotal: 353ms\tremaining: 118ms\n",
      "75:\tlearn: 0.3272618\ttotal: 356ms\tremaining: 112ms\n",
      "76:\tlearn: 0.3251530\ttotal: 358ms\tremaining: 107ms\n",
      "77:\tlearn: 0.3239111\ttotal: 360ms\tremaining: 102ms\n",
      "78:\tlearn: 0.3228172\ttotal: 364ms\tremaining: 96.7ms\n",
      "79:\tlearn: 0.3216519\ttotal: 366ms\tremaining: 91.5ms\n",
      "80:\tlearn: 0.3207913\ttotal: 368ms\tremaining: 86.4ms\n",
      "81:\tlearn: 0.3195099\ttotal: 370ms\tremaining: 81.3ms\n",
      "82:\tlearn: 0.3177222\ttotal: 373ms\tremaining: 76.4ms\n",
      "83:\tlearn: 0.3166900\ttotal: 375ms\tremaining: 71.5ms\n",
      "84:\tlearn: 0.3153293\ttotal: 379ms\tremaining: 66.9ms\n",
      "85:\tlearn: 0.3130481\ttotal: 382ms\tremaining: 62.1ms\n",
      "86:\tlearn: 0.3113206\ttotal: 384ms\tremaining: 57.4ms\n",
      "87:\tlearn: 0.3099346\ttotal: 388ms\tremaining: 52.9ms\n",
      "88:\tlearn: 0.3081525\ttotal: 390ms\tremaining: 48.2ms\n",
      "89:\tlearn: 0.3068291\ttotal: 394ms\tremaining: 43.8ms\n",
      "90:\tlearn: 0.3053836\ttotal: 397ms\tremaining: 39.3ms\n",
      "91:\tlearn: 0.3037774\ttotal: 400ms\tremaining: 34.8ms\n",
      "92:\tlearn: 0.3022481\ttotal: 403ms\tremaining: 30.3ms\n",
      "93:\tlearn: 0.3001475\ttotal: 405ms\tremaining: 25.9ms\n",
      "94:\tlearn: 0.2981194\ttotal: 409ms\tremaining: 21.5ms\n",
      "95:\tlearn: 0.2970489\ttotal: 412ms\tremaining: 17.1ms\n",
      "96:\tlearn: 0.2961283\ttotal: 414ms\tremaining: 12.8ms\n",
      "97:\tlearn: 0.2946527\ttotal: 417ms\tremaining: 8.5ms\n",
      "98:\tlearn: 0.2926865\ttotal: 419ms\tremaining: 4.23ms\n",
      "99:\tlearn: 0.2911641\ttotal: 421ms\tremaining: 0us\n",
      "Accuracy: 0.795\n"
     ]
    }
   ],
   "source": [
    "catboost = CatBoostClassifier(iterations=100, learning_rate=0.1, depth=6, l2_leaf_reg=3)\n",
    "\n",
    "catboost.fit(X_train, y_train)\n",
    "\n",
    "catboost_pred = catboost.predict(X_test)\n",
    "\n",
    "accuracy = accuracy_score(y_test, catboost_pred)\n",
    "\n",
    "print(\"Accuracy:\", accuracy)"
   ]
  },
  {
   "cell_type": "code",
   "execution_count": 19,
   "metadata": {},
   "outputs": [
    {
     "name": "stdout",
     "output_type": "stream",
     "text": [
      "Catboost Score:  [0.8, 0.77, 0.84, 0.81, 0.79]\n"
     ]
    },
    {
     "data": {
      "text/html": [
       "<div>\n",
       "<style scoped>\n",
       "    .dataframe tbody tr th:only-of-type {\n",
       "        vertical-align: middle;\n",
       "    }\n",
       "\n",
       "    .dataframe tbody tr th {\n",
       "        vertical-align: top;\n",
       "    }\n",
       "\n",
       "    .dataframe thead th {\n",
       "        text-align: right;\n",
       "    }\n",
       "</style>\n",
       "<table border=\"1\" class=\"dataframe\">\n",
       "  <thead>\n",
       "    <tr style=\"text-align: right;\">\n",
       "      <th></th>\n",
       "      <th>Catboost Score</th>\n",
       "    </tr>\n",
       "  </thead>\n",
       "  <tbody>\n",
       "    <tr>\n",
       "      <th>Accuracy:</th>\n",
       "      <td>0.80</td>\n",
       "    </tr>\n",
       "    <tr>\n",
       "      <th>Precision:</th>\n",
       "      <td>0.77</td>\n",
       "    </tr>\n",
       "    <tr>\n",
       "      <th>Recall:</th>\n",
       "      <td>0.84</td>\n",
       "    </tr>\n",
       "    <tr>\n",
       "      <th>F1_score:</th>\n",
       "      <td>0.81</td>\n",
       "    </tr>\n",
       "    <tr>\n",
       "      <th>Auc:</th>\n",
       "      <td>0.79</td>\n",
       "    </tr>\n",
       "  </tbody>\n",
       "</table>\n",
       "</div>"
      ],
      "text/plain": [
       "             Catboost Score\n",
       "Accuracy:              0.80\n",
       "Precision:             0.77\n",
       "Recall:                0.84\n",
       "F1_score:              0.81\n",
       "Auc:                   0.79"
      ]
     },
     "execution_count": 19,
     "metadata": {},
     "output_type": "execute_result"
    }
   ],
   "source": [
    "catboost_score = calculate_performance_scores(catboost, X_test, y_test)\n",
    "print('Catboost Score: ' , catboost_score )\n",
    "\n",
    "catboost_score= {'Catboost Score': catboost_score,\n",
    "                }\n",
    "catboost_score_df = pd.DataFrame(catboost_score, index=['Accuracy: ', 'Precision: ', 'Recall: ', 'F1_score: ','Auc: '])\n",
    "catboost_score_df "
   ]
  },
  {
   "attachments": {},
   "cell_type": "markdown",
   "metadata": {},
   "source": [
    "LGBM - GridSearch\n"
   ]
  },
  {
   "cell_type": "code",
   "execution_count": 20,
   "metadata": {},
   "outputs": [
    {
     "name": "stdout",
     "output_type": "stream",
     "text": [
      "Best Parameters: {'learning_rate': 0.2, 'max_depth': 4, 'n_estimators': 100, 'num_leaves': 20}\n",
      "Accuracy: 0.82\n"
     ]
    }
   ],
   "source": [
    "lgbm = lgb.LGBMClassifier()\n",
    "\n",
    "\n",
    "param_grid = {\n",
    "    'learning_rate': [0.1, 0.2],\n",
    "    'max_depth': [3, 4],\n",
    "    'n_estimators': [50, 100],\n",
    "    'num_leaves': [10, 20],\n",
    "   \n",
    "}\n",
    "\n",
    "grid_search = GridSearchCV(lgbm, param_grid=param_grid, cv=5)\n",
    "grid_search.fit(X_train, y_train)\n",
    "\n",
    "lgbm_best = grid_search.best_estimator_\n",
    "lgbm_pred = lgbm_best.predict(X_test)\n",
    "accuracy = accuracy_score(y_test, lgbm_pred)\n",
    "\n",
    "print(\"Best Parameters:\", grid_search.best_params_)\n",
    "print(\"Accuracy:\", accuracy)"
   ]
  },
  {
   "cell_type": "code",
   "execution_count": 21,
   "metadata": {},
   "outputs": [
    {
     "name": "stdout",
     "output_type": "stream",
     "text": [
      "LGBM Score:  [0.82, 0.78, 0.89, 0.83, 0.82]\n"
     ]
    },
    {
     "data": {
      "text/html": [
       "<div>\n",
       "<style scoped>\n",
       "    .dataframe tbody tr th:only-of-type {\n",
       "        vertical-align: middle;\n",
       "    }\n",
       "\n",
       "    .dataframe tbody tr th {\n",
       "        vertical-align: top;\n",
       "    }\n",
       "\n",
       "    .dataframe thead th {\n",
       "        text-align: right;\n",
       "    }\n",
       "</style>\n",
       "<table border=\"1\" class=\"dataframe\">\n",
       "  <thead>\n",
       "    <tr style=\"text-align: right;\">\n",
       "      <th></th>\n",
       "      <th>LGBM Score</th>\n",
       "    </tr>\n",
       "  </thead>\n",
       "  <tbody>\n",
       "    <tr>\n",
       "      <th>Accuracy:</th>\n",
       "      <td>0.82</td>\n",
       "    </tr>\n",
       "    <tr>\n",
       "      <th>Precision:</th>\n",
       "      <td>0.78</td>\n",
       "    </tr>\n",
       "    <tr>\n",
       "      <th>Recall:</th>\n",
       "      <td>0.89</td>\n",
       "    </tr>\n",
       "    <tr>\n",
       "      <th>F1_score:</th>\n",
       "      <td>0.83</td>\n",
       "    </tr>\n",
       "    <tr>\n",
       "      <th>Auc:</th>\n",
       "      <td>0.82</td>\n",
       "    </tr>\n",
       "  </tbody>\n",
       "</table>\n",
       "</div>"
      ],
      "text/plain": [
       "             LGBM Score\n",
       "Accuracy:          0.82\n",
       "Precision:         0.78\n",
       "Recall:            0.89\n",
       "F1_score:          0.83\n",
       "Auc:               0.82"
      ]
     },
     "execution_count": 21,
     "metadata": {},
     "output_type": "execute_result"
    }
   ],
   "source": [
    "lgbm_score = calculate_performance_scores(lgbm_best, X_test, y_test)\n",
    "print('LGBM Score: ' , lgbm_score )\n",
    "\n",
    "\n",
    "lgbm_score= {'LGBM Score': lgbm_score,\n",
    "                }\n",
    "lgbm_score_df = pd.DataFrame(lgbm_score, index=['Accuracy: ', 'Precision: ', 'Recall: ', 'F1_score: ','Auc: '])\n",
    "lgbm_score_df\n"
   ]
  },
  {
   "attachments": {},
   "cell_type": "markdown",
   "metadata": {},
   "source": [
    "RANDOM FOREST\n"
   ]
  },
  {
   "cell_type": "code",
   "execution_count": 22,
   "metadata": {},
   "outputs": [
    {
     "data": {
      "text/html": [
       "<div>\n",
       "<style scoped>\n",
       "    .dataframe tbody tr th:only-of-type {\n",
       "        vertical-align: middle;\n",
       "    }\n",
       "\n",
       "    .dataframe tbody tr th {\n",
       "        vertical-align: top;\n",
       "    }\n",
       "\n",
       "    .dataframe thead th {\n",
       "        text-align: right;\n",
       "    }\n",
       "</style>\n",
       "<table border=\"1\" class=\"dataframe\">\n",
       "  <thead>\n",
       "    <tr style=\"text-align: right;\">\n",
       "      <th></th>\n",
       "      <th>Random Forest Score</th>\n",
       "    </tr>\n",
       "  </thead>\n",
       "  <tbody>\n",
       "    <tr>\n",
       "      <th>Accuracy:</th>\n",
       "      <td>0.84</td>\n",
       "    </tr>\n",
       "    <tr>\n",
       "      <th>Precision:</th>\n",
       "      <td>0.79</td>\n",
       "    </tr>\n",
       "    <tr>\n",
       "      <th>Recall:</th>\n",
       "      <td>0.91</td>\n",
       "    </tr>\n",
       "    <tr>\n",
       "      <th>F1_score:</th>\n",
       "      <td>0.85</td>\n",
       "    </tr>\n",
       "    <tr>\n",
       "      <th>Auc:</th>\n",
       "      <td>0.83</td>\n",
       "    </tr>\n",
       "  </tbody>\n",
       "</table>\n",
       "</div>"
      ],
      "text/plain": [
       "             Random Forest Score\n",
       "Accuracy:                   0.84\n",
       "Precision:                  0.79\n",
       "Recall:                     0.91\n",
       "F1_score:                   0.85\n",
       "Auc:                        0.83"
      ]
     },
     "execution_count": 22,
     "metadata": {},
     "output_type": "execute_result"
    }
   ],
   "source": [
    "from sklearn.ensemble import RandomForestClassifier\n",
    "\n",
    "rf = RandomForestClassifier()\n",
    "rf.fit(X_train, y_train)\n",
    "\n",
    "rf_pred = rf.predict(X_test)\n",
    "accuracy = accuracy_score(y_test, rf_pred)\n",
    "\n",
    "random_forest = calculate_performance_scores(rf, X_test, y_test)\n",
    "\n",
    "random_forest = {'Random Forest Score': random_forest,}\n",
    "random_forest_df = pd.DataFrame(random_forest, index=['Accuracy: ', 'Precision: ', 'Recall: ', 'F1_score: ','Auc: '])\n",
    "random_forest_df\n"
   ]
  },
  {
   "attachments": {},
   "cell_type": "markdown",
   "metadata": {},
   "source": [
    "Model Comparison"
   ]
  },
  {
   "cell_type": "code",
   "execution_count": 23,
   "metadata": {},
   "outputs": [
    {
     "data": {
      "text/html": [
       "<div>\n",
       "<style scoped>\n",
       "    .dataframe tbody tr th:only-of-type {\n",
       "        vertical-align: middle;\n",
       "    }\n",
       "\n",
       "    .dataframe tbody tr th {\n",
       "        vertical-align: top;\n",
       "    }\n",
       "\n",
       "    .dataframe thead th {\n",
       "        text-align: right;\n",
       "    }\n",
       "</style>\n",
       "<table border=\"1\" class=\"dataframe\">\n",
       "  <thead>\n",
       "    <tr style=\"text-align: right;\">\n",
       "      <th></th>\n",
       "      <th>XGBOOST:</th>\n",
       "      <th>Catboost Score</th>\n",
       "      <th>LGBM Score</th>\n",
       "      <th>Random Forest Score</th>\n",
       "    </tr>\n",
       "  </thead>\n",
       "  <tbody>\n",
       "    <tr>\n",
       "      <th>Accuracy:</th>\n",
       "      <td>0.82</td>\n",
       "      <td>0.80</td>\n",
       "      <td>0.82</td>\n",
       "      <td>0.84</td>\n",
       "    </tr>\n",
       "    <tr>\n",
       "      <th>Precision:</th>\n",
       "      <td>0.77</td>\n",
       "      <td>0.77</td>\n",
       "      <td>0.78</td>\n",
       "      <td>0.79</td>\n",
       "    </tr>\n",
       "    <tr>\n",
       "      <th>Recall:</th>\n",
       "      <td>0.91</td>\n",
       "      <td>0.84</td>\n",
       "      <td>0.89</td>\n",
       "      <td>0.91</td>\n",
       "    </tr>\n",
       "    <tr>\n",
       "      <th>F1_score:</th>\n",
       "      <td>0.84</td>\n",
       "      <td>0.81</td>\n",
       "      <td>0.83</td>\n",
       "      <td>0.85</td>\n",
       "    </tr>\n",
       "    <tr>\n",
       "      <th>Auc:</th>\n",
       "      <td>0.82</td>\n",
       "      <td>0.79</td>\n",
       "      <td>0.82</td>\n",
       "      <td>0.83</td>\n",
       "    </tr>\n",
       "  </tbody>\n",
       "</table>\n",
       "</div>"
      ],
      "text/plain": [
       "             XGBOOST:  Catboost Score  LGBM Score  Random Forest Score\n",
       "Accuracy:        0.82            0.80        0.82                 0.84\n",
       "Precision:       0.77            0.77        0.78                 0.79\n",
       "Recall:          0.91            0.84        0.89                 0.91\n",
       "F1_score:        0.84            0.81        0.83                 0.85\n",
       "Auc:             0.82            0.79        0.82                 0.83"
      ]
     },
     "execution_count": 23,
     "metadata": {},
     "output_type": "execute_result"
    }
   ],
   "source": [
    "model_comparison= pd.concat([xg_boost_df, catboost_score_df,lgbm_score_df,random_forest_df ], axis=1)\n",
    "model_comparison"
   ]
  },
  {
   "attachments": {},
   "cell_type": "markdown",
   "metadata": {},
   "source": [
    "Pickle"
   ]
  },
  {
   "cell_type": "code",
   "execution_count": 24,
   "metadata": {},
   "outputs": [],
   "source": [
    "import pickle\n",
    "with open('randomforest.pkl', 'wb') as f:\n",
    "    pickle.dump(rf, f)"
   ]
  }
 ],
 "metadata": {
  "kernelspec": {
   "display_name": "base",
   "language": "python",
   "name": "python3"
  },
  "language_info": {
   "codemirror_mode": {
    "name": "ipython",
    "version": 3
   },
   "file_extension": ".py",
   "mimetype": "text/x-python",
   "name": "python",
   "nbconvert_exporter": "python",
   "pygments_lexer": "ipython3",
   "version": "3.9.7"
  },
  "orig_nbformat": 4
 },
 "nbformat": 4,
 "nbformat_minor": 2
}
